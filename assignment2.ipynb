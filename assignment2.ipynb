{
 "cells": [
  {
   "cell_type": "code",
   "execution_count": 98,
   "id": "a57b16cc",
   "metadata": {},
   "outputs": [
    {
     "name": "stderr",
     "output_type": "stream",
     "text": [
      "[nltk_data] Downloading package stopwords to\n",
      "[nltk_data]     C:\\Users\\win-10\\AppData\\Roaming\\nltk_data...\n",
      "[nltk_data]   Package stopwords is already up-to-date!\n",
      "[nltk_data] Downloading package punkt to\n",
      "[nltk_data]     C:\\Users\\win-10\\AppData\\Roaming\\nltk_data...\n",
      "[nltk_data]   Package punkt is already up-to-date!\n",
      "[nltk_data] Downloading package averaged_perceptron_tagger to\n",
      "[nltk_data]     C:\\Users\\win-10\\AppData\\Roaming\\nltk_data...\n",
      "[nltk_data]   Package averaged_perceptron_tagger is already up-to-\n",
      "[nltk_data]       date!\n"
     ]
    },
    {
     "data": {
      "text/plain": [
       "True"
      ]
     },
     "execution_count": 98,
     "metadata": {},
     "output_type": "execute_result"
    }
   ],
   "source": [
    "import nltk\n",
    "nltk.download('stopwords')\n",
    "nltk.download('punkt')\n",
    "nltk.download('averaged_perceptron_tagger')"
   ]
  },
  {
   "cell_type": "code",
   "execution_count": 99,
   "id": "f74988bd",
   "metadata": {},
   "outputs": [],
   "source": [
    "from nltk.tokenize import sent_tokenize\n",
    "from nltk.tokenize import word_tokenize"
   ]
  },
  {
   "cell_type": "code",
   "execution_count": 100,
   "id": "7a1ed960",
   "metadata": {},
   "outputs": [],
   "source": [
    "text= \"Hi! 🙂 According to 2021, Python is the top programming language in TIOBE and PYPL Index. C and Java closely follow Top-ranked Python in TIOBE. In PYPL, a gap is wider as top-ranked Python has taken a lead of close to 12% from 2nd ranked Java.\"\n"
   ]
  },
  {
   "cell_type": "code",
   "execution_count": 101,
   "id": "471ea27c",
   "metadata": {},
   "outputs": [],
   "source": [
    "t_t=sent_tokenize(text)\n",
    "w_t=word_tokenize(text)"
   ]
  },
  {
   "cell_type": "code",
   "execution_count": 102,
   "id": "dcdd9c7d",
   "metadata": {},
   "outputs": [
    {
     "name": "stdout",
     "output_type": "stream",
     "text": [
      "['Hi', '!', '🙂', 'According', 'to', '2021', ',', 'Python', 'is', 'the', 'top', 'programming', 'language', 'in', 'TIOBE', 'and', 'PYPL', 'Index', '.', 'C', 'and', 'Java', 'closely', 'follow', 'Top-ranked', 'Python', 'in', 'TIOBE', '.', 'In', 'PYPL', ',', 'a', 'gap', 'is', 'wider', 'as', 'top-ranked', 'Python', 'has', 'taken', 'a', 'lead', 'of', 'close', 'to', '12', '%', 'from', '2nd', 'ranked', 'Java', '.']\n"
     ]
    }
   ],
   "source": [
    "print(w_t)"
   ]
  },
  {
   "cell_type": "code",
   "execution_count": 103,
   "id": "2b8f7fa8",
   "metadata": {},
   "outputs": [
    {
     "name": "stdout",
     "output_type": "stream",
     "text": [
      "['Hi!', '🙂 According to 2021, Python is the top programming language in TIOBE and PYPL Index.', 'C and Java closely follow Top-ranked Python in TIOBE.', 'In PYPL, a gap is wider as top-ranked Python has taken a lead of close to 12% from 2nd ranked Java.']\n"
     ]
    }
   ],
   "source": [
    "print(t_t)"
   ]
  },
  {
   "cell_type": "code",
   "execution_count": 104,
   "id": "c67d810d",
   "metadata": {},
   "outputs": [],
   "source": [
    "from nltk.probability import FreqDist"
   ]
  },
  {
   "cell_type": "code",
   "execution_count": 105,
   "id": "67f93a89",
   "metadata": {},
   "outputs": [
    {
     "name": "stdout",
     "output_type": "stream",
     "text": [
      "<FreqDist with 40 samples and 53 outcomes>\n"
     ]
    }
   ],
   "source": [
    "fd=FreqDist(w_t)\n",
    "print(fd)"
   ]
  },
  {
   "cell_type": "code",
   "execution_count": 106,
   "id": "7d678470",
   "metadata": {},
   "outputs": [
    {
     "data": {
      "text/plain": [
       "[('Python', 3), ('.', 3), ('to', 2), (',', 2)]"
      ]
     },
     "execution_count": 106,
     "metadata": {},
     "output_type": "execute_result"
    }
   ],
   "source": [
    "fd.most_common(4)"
   ]
  },
  {
   "cell_type": "code",
   "execution_count": 107,
   "id": "3e2e2173",
   "metadata": {},
   "outputs": [],
   "source": [
    "#FDP\n",
    "import matplotlib.pyplot as plt"
   ]
  },
  {
   "cell_type": "code",
   "execution_count": 108,
   "id": "8a67a359",
   "metadata": {},
   "outputs": [
    {
     "data": {
      "image/png": "[encoded data removed]",
      "text/plain": [
       "<Figure size 432x288 with 1 Axes>"
      ]
     },
     "metadata": {
      "needs_background": "light"
     },
     "output_type": "display_data"
    }
   ],
   "source": [
    "fd.plot()\n",
    "plt.show()"
   ]
  },
  {
   "cell_type": "code",
   "execution_count": 109,
   "id": "deb62242",
   "metadata": {},
   "outputs": [],
   "source": [
    "s_t=sent_tokenize(text)"
   ]
  },
  {
   "cell_type": "code",
   "execution_count": 110,
   "id": "2a718659",
   "metadata": {},
   "outputs": [
    {
     "name": "stdout",
     "output_type": "stream",
     "text": [
      "['Hi!', '🙂 According to 2021, Python is the top programming language in TIOBE and PYPL Index.', 'C and Java closely follow Top-ranked Python in TIOBE.', 'In PYPL, a gap is wider as top-ranked Python has taken a lead of close to 12% from 2nd ranked Java.']\n"
     ]
    }
   ],
   "source": [
    "print(s_t)"
   ]
  },
  {
   "cell_type": "code",
   "execution_count": 111,
   "id": "c984b266",
   "metadata": {},
   "outputs": [
    {
     "name": "stdout",
     "output_type": "stream",
     "text": [
      "<FreqDist with 4 samples and 4 outcomes>\n"
     ]
    }
   ],
   "source": [
    "fd1=FreqDist(s_t)\n",
    "print(fd1)"
   ]
  },
  {
   "cell_type": "code",
   "execution_count": 112,
   "id": "338bcb5e",
   "metadata": {},
   "outputs": [
    {
     "data": {
      "text/plain": [
       "[('Hi!', 1),\n",
       " ('🙂 According to 2021, Python is the top programming language in TIOBE and PYPL Index.',\n",
       "  1),\n",
       " ('C and Java closely follow Top-ranked Python in TIOBE.', 1),\n",
       " ('In PYPL, a gap is wider as top-ranked Python has taken a lead of close to 12% from 2nd ranked Java.',\n",
       "  1)]"
      ]
     },
     "execution_count": 112,
     "metadata": {},
     "output_type": "execute_result"
    }
   ],
   "source": [
    "fd1.most_common(4)"
   ]
  },
  {
   "cell_type": "code",
   "execution_count": 113,
   "id": "d7e1c2ea",
   "metadata": {},
   "outputs": [],
   "source": [
    "from nltk.corpus import stopwords"
   ]
  },
  {
   "cell_type": "code",
   "execution_count": 114,
   "id": "6237aeb7",
   "metadata": {},
   "outputs": [
    {
     "name": "stdout",
     "output_type": "stream",
     "text": [
      "{'them', 've', 'himself', 'very', \"it's\", \"hasn't\", 'from', \"isn't\", 'on', 'if', 'which', 'these', 'is', 'then', 'll', 'wasn', 'yourself', 'we', 'wouldn', 'an', 'and', 'been', 'above', 'only', 'o', 'hasn', \"weren't\", \"that'll\", 'own', 'whom', 'your', 'was', 'again', 'once', \"don't\", 'themselves', 'are', 'but', 'herself', 'isn', 'those', 'weren', 'other', 'here', 'has', 'myself', 'where', 'me', 'than', 'or', 'all', 'ma', 'nor', 'y', \"couldn't\", \"mustn't\", 'ours', 'through', 'do', 'doing', 'off', \"needn't\", 'mustn', 'ourselves', \"mightn't\", 'have', 'out', 'up', \"haven't\", 'they', 'into', 'you', 'yourselves', 'what', 'our', 'down', 'between', 'don', \"hadn't\", 'who', 'most', 'it', 'its', 'now', 'does', 'the', 'same', \"shan't\", 'in', 'until', 'ain', 'before', 'm', 'be', 'any', 'not', \"shouldn't\", \"aren't\", 'this', 're', 'shan', 'being', 'just', 'further', \"you've\", \"wouldn't\", 'i', 'as', 'while', 'such', 'should', 'when', 'he', 'hers', 'few', \"should've\", 'by', 'below', 'haven', 't', 'needn', 'at', 'doesn', 's', 'that', 'had', \"won't\", 'too', 'mightn', 'over', 'won', 'hadn', 'itself', 'more', \"you're\", 'so', \"wasn't\", \"you'd\", 'for', 'with', 'can', 'each', 'couldn', 'no', 'why', 'were', 'about', 'after', 'having', 'his', 'a', 'against', 'did', \"she's\", 'her', 'how', 'him', 'during', 'theirs', \"didn't\", 'to', \"doesn't\", 'd', 'both', 'under', 'didn', 'some', 'my', 'shouldn', 'aren', 'because', 'will', \"you'll\", 'there', 'am', 'of', 'yours', 'their', 'she'}\n"
     ]
    }
   ],
   "source": [
    "s_w=set(stopwords.words(\"english\"))\n",
    "print(s_w)"
   ]
  },
  {
   "cell_type": "code",
   "execution_count": 115,
   "id": "653df902",
   "metadata": {},
   "outputs": [],
   "source": [
    "c_t=[]\n",
    "for w in w_t:\n",
    "    if w not in s_w:\n",
    "        c_t.append(w)"
   ]
  },
  {
   "cell_type": "code",
   "execution_count": 116,
   "id": "7e74a8fd",
   "metadata": {},
   "outputs": [
    {
     "name": "stdout",
     "output_type": "stream",
     "text": [
      "Before removing stop words ['Hi', '!', '🙂', 'According', 'to', '2021', ',', 'Python', 'is', 'the', 'top', 'programming', 'language', 'in', 'TIOBE', 'and', 'PYPL', 'Index', '.', 'C', 'and', 'Java', 'closely', 'follow', 'Top-ranked', 'Python', 'in', 'TIOBE', '.', 'In', 'PYPL', ',', 'a', 'gap', 'is', 'wider', 'as', 'top-ranked', 'Python', 'has', 'taken', 'a', 'lead', 'of', 'close', 'to', '12', '%', 'from', '2nd', 'ranked', 'Java', '.']\n",
      "After removing stop words ['Hi', '!', '🙂', 'According', '2021', ',', 'Python', 'top', 'programming', 'language', 'TIOBE', 'PYPL', 'Index', '.', 'C', 'Java', 'closely', 'follow', 'Top-ranked', 'Python', 'TIOBE', '.', 'In', 'PYPL', ',', 'gap', 'wider', 'top-ranked', 'Python', 'taken', 'lead', 'close', '12', '%', '2nd', 'ranked', 'Java', '.']\n"
     ]
    }
   ],
   "source": [
    "print(\"Before removing stop words\",w_t)\n",
    "print(\"After removing stop words\",c_t)"
   ]
  },
  {
   "cell_type": "code",
   "execution_count": 117,
   "id": "3b86c088",
   "metadata": {},
   "outputs": [],
   "source": [
    "from nltk.stem import PorterStemmer"
   ]
  },
  {
   "cell_type": "code",
   "execution_count": 118,
   "id": "a78dc28c",
   "metadata": {},
   "outputs": [],
   "source": [
    "ps=PorterStemmer()\n",
    "st_word=[]\n",
    "for w in c_t:\n",
    "    st_word.append(ps.stem(w))"
   ]
  },
  {
   "cell_type": "code",
   "execution_count": 119,
   "id": "ccc2c945",
   "metadata": {},
   "outputs": [
    {
     "name": "stdout",
     "output_type": "stream",
     "text": [
      "Before stemming ['Hi', '!', '🙂', 'According', '2021', ',', 'Python', 'top', 'programming', 'language', 'TIOBE', 'PYPL', 'Index', '.', 'C', 'Java', 'closely', 'follow', 'Top-ranked', 'Python', 'TIOBE', '.', 'In', 'PYPL', ',', 'gap', 'wider', 'top-ranked', 'Python', 'taken', 'lead', 'close', '12', '%', '2nd', 'ranked', 'Java', '.']\n",
      "After stemmong ['hi', '!', '🙂', 'accord', '2021', ',', 'python', 'top', 'program', 'languag', 'tiob', 'pypl', 'index', '.', 'c', 'java', 'close', 'follow', 'top-rank', 'python', 'tiob', '.', 'in', 'pypl', ',', 'gap', 'wider', 'top-rank', 'python', 'taken', 'lead', 'close', '12', '%', '2nd', 'rank', 'java', '.']\n"
     ]
    }
   ],
   "source": [
    "print(\"Before stemming\",c_t)\n",
    "print(\"After stemmong\",st_word)"
   ]
  },
  {
   "cell_type": "code",
   "execution_count": 120,
   "id": "23c9ff69",
   "metadata": {},
   "outputs": [
    {
     "name": "stdout",
     "output_type": "stream",
     "text": [
      "['Hi', '!', '🙂', 'According', 'to', '2021', ',', 'Python', 'is', 'the', 'top', 'programming', 'language', 'in', 'TIOBE', 'and', 'PYPL', 'Index', '.', 'C', 'and', 'Java', 'closely', 'follow', 'Top-ranked', 'Python', 'in', 'TIOBE', '.', 'In', 'PYPL', ',', 'a', 'gap', 'is', 'wider', 'as', 'top-ranked', 'Python', 'has', 'taken', 'a', 'lead', 'of', 'close', 'to', '12', '%', 'from', '2nd', 'ranked', 'Java', '.']\n"
     ]
    }
   ],
   "source": [
    "\n",
    "tok=nltk.word_tokenize(text)\n",
    "print(tok)"
   ]
  },
  {
   "cell_type": "code",
   "execution_count": 121,
   "id": "ccfb5b33",
   "metadata": {},
   "outputs": [
    {
     "data": {
      "text/plain": [
       "[('Hi', 'NN'),\n",
       " ('!', '.'),\n",
       " ('🙂', 'NN'),\n",
       " ('According', 'VBG'),\n",
       " ('to', 'TO'),\n",
       " ('2021', 'CD'),\n",
       " (',', ','),\n",
       " ('Python', 'NNP'),\n",
       " ('is', 'VBZ'),\n",
       " ('the', 'DT'),\n",
       " ('top', 'JJ'),\n",
       " ('programming', 'NN'),\n",
       " ('language', 'NN'),\n",
       " ('in', 'IN'),\n",
       " ('TIOBE', 'NNP'),\n",
       " ('and', 'CC'),\n",
       " ('PYPL', 'NNP'),\n",
       " ('Index', 'NNP'),\n",
       " ('.', '.'),\n",
       " ('C', 'NNP'),\n",
       " ('and', 'CC'),\n",
       " ('Java', 'NNP'),\n",
       " ('closely', 'RB'),\n",
       " ('follow', 'VBP'),\n",
       " ('Top-ranked', 'JJ'),\n",
       " ('Python', 'NNP'),\n",
       " ('in', 'IN'),\n",
       " ('TIOBE', 'NNP'),\n",
       " ('.', '.'),\n",
       " ('In', 'IN'),\n",
       " ('PYPL', 'NNP'),\n",
       " (',', ','),\n",
       " ('a', 'DT'),\n",
       " ('gap', 'NN'),\n",
       " ('is', 'VBZ'),\n",
       " ('wider', 'VBN'),\n",
       " ('as', 'IN'),\n",
       " ('top-ranked', 'JJ'),\n",
       " ('Python', 'NNP'),\n",
       " ('has', 'VBZ'),\n",
       " ('taken', 'VBN'),\n",
       " ('a', 'DT'),\n",
       " ('lead', 'NN'),\n",
       " ('of', 'IN'),\n",
       " ('close', 'JJ'),\n",
       " ('to', 'TO'),\n",
       " ('12', 'CD'),\n",
       " ('%', 'NN'),\n",
       " ('from', 'IN'),\n",
       " ('2nd', 'CD'),\n",
       " ('ranked', 'JJ'),\n",
       " ('Java', 'NNP'),\n",
       " ('.', '.')]"
      ]
     },
     "execution_count": 121,
     "metadata": {},
     "output_type": "execute_result"
    }
   ],
   "source": [
    "nltk.pos_tag(tok)"
   ]
  },
  {
   "cell_type": "code",
   "execution_count": null,
   "id": "ef8dd9df",
   "metadata": {},
   "outputs": [],
   "source": []
  }
 ],
 "metadata": {
  "kernelspec": {
   "display_name": "Python 3 (ipykernel)",
   "language": "python",
   "name": "python3"
  },
  "language_info": {
   "codemirror_mode": {
    "name": "ipython",
    "version": 3
   },
   "file_extension": ".py",
   "mimetype": "text/x-python",
   "name": "python",
   "nbconvert_exporter": "python",
   "pygments_lexer": "ipython3",
   "version": "3.8.7"
  }
 },
 "nbformat": 4,
 "nbformat_minor": 5
}
